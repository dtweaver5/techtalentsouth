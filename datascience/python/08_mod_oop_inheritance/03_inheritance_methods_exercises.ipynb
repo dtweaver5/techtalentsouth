{
 "cells": [
  {
   "cell_type": "markdown",
   "metadata": {},
   "source": [
    "Data Science Fundamentals: Python |\n",
    "[Table of Contents](../index.ipynb)\n",
    "- - - \n",
    "<!--NAVIGATION-->\n",
    "Module 8. | [Inheritance & Methods](./01_oop_inheritance.ipynb) | [Sequences, Iterables, Generators Revisited](02_revisited.ipynb) | **[Exercises](./03_inheritance_methods_exercises.ipynb)**"
   ]
  },
  {
   "cell_type": "markdown",
   "metadata": {},
   "source": [
    "# Module 8: Practice Exercises"
   ]
  },
  {
   "cell_type": "markdown",
   "metadata": {},
   "source": [
    "## Exercise 1. "
   ]
  },
  {
   "cell_type": "markdown",
   "metadata": {},
   "source": [
    "You are given two classes, Person and Student, where Person is the base class and Student is the derived class. Completed code for Person and a declaration for Student are provided for you in the editor. Observe that Student inherits all the properties of Person.\n",
    "\n",
    "Complete the Student class by writing the following:\n",
    "\n",
    "A Student class constructor, which has 4 parameters:\n",
    "- A string, firstName\n",
    "- A string, lastName\n",
    "- An integer, id\n",
    "An integer array (or vector) of test scores, scores\n",
    "\n",
    "A char **calculate()** method that calculates a Student object's average and returns the grade character representative of their calculated average:\n",
    "```\n",
    "A | 90-100\n",
    "B | 80-89\n",
    "C | 70-79\n",
    "D | 60-69\n",
    "F | <60\n",
    "```"
   ]
  },
  {
   "cell_type": "code",
   "execution_count": 41,
   "metadata": {},
   "outputs": [],
   "source": [
    "# define the Vehicle class\n",
    "\n",
    "class Person:\n",
    "    fname = \"\"\n",
    "    lname = \"\"\n",
    "    def desc(self):\n",
    "        desc_person = \"%s %s is a person.\" % (self.fname, self.lname)\n",
    "        return desc_person\n",
    "\n",
    "class Student(Person):\n",
    "      def desc(self):\n",
    "          desc_person = \"%s %s is a student.\" % (self.fname, self.lname)\n",
    "          return desc_person\n",
    "        \n",
    "class Grades(Student):\n",
    "      def desc(self):\n",
    "           desc_person = \"%s %s has grades.\" % (self.fname, self.lname)\n",
    "           return desc_person\n",
    "\n",
    "# your code goes here\n",
    "person1 = Person()\n",
    "person1.fname = \"Gary\"\n",
    "person1.lname = \"Jackson\"\n",
    "\n",
    "person2 = Student()\n",
    "person2.fname = \"Gary\"\n",
    "person2.lname = \"Jackson\"\n",
    "\n",
    "person3 = Grades()\n",
    "person3.fname = \"Gary\"\n",
    "person3.lname = \"Jackson\""
   ]
  },
  {
   "cell_type": "code",
   "execution_count": 42,
   "metadata": {},
   "outputs": [
    {
     "name": "stdout",
     "output_type": "stream",
     "text": [
      "Gary Jackson is a person.\n",
      "Gary Jackson is a student.\n",
      "Gary Jackson has grades.\n"
     ]
    }
   ],
   "source": [
    "# test code\n",
    "print(person1.desc())\n",
    "print(person2.desc())\n",
    "print(person3.desc())"
   ]
  },
  {
   "cell_type": "code",
   "execution_count": 24,
   "metadata": {},
   "outputs": [
    {
     "name": "stdout",
     "output_type": "stream",
     "text": [
      "First Name: Joe\n",
      "Last Name: Diffie\n",
      "Student ID: 107\n",
      "Enter a list of grades separated by a space: 12 34 56 78 90 100 100 100\n",
      "Joe Diffie, Student ID 107, you got a C.\n"
     ]
    }
   ],
   "source": [
    "class Person:\n",
    "    fname = \"\"\n",
    "    lname = \"\"\n",
    "    \n",
    "    def __init__(self, fname, lname) :\n",
    "        self.fname = fname\n",
    "        self.lname = lname\n",
    "        \n",
    "    def __repr__(self) :\n",
    "        return [fname, lname]\n",
    "        \n",
    "    def __str__(self) :\n",
    "         return \"%s %s is a person.\" % (self.fname, self.lname)\n",
    "\n",
    "class Student(Person):\n",
    "    \n",
    "    def __init__(self, person, id, scores) :\n",
    "        self.fname = person.fname\n",
    "        self.lname = person.lname\n",
    "        self.scores = [int(score) for score in scores]\n",
    "        self.id = int(id)\n",
    "        \n",
    "    def calculate(self) :\n",
    "        try:\n",
    "            avg = sum(self.scores)/len(self.scores)\n",
    "            if 90 <= avg <= 100:\n",
    "                return 'A'\n",
    "            elif 80 <= avg < 90:\n",
    "                return 'B'\n",
    "            elif 70 <= avg < 80:\n",
    "                return 'C'\n",
    "            elif 60 <= avg < 70:\n",
    "                return 'D'\n",
    "            elif avg < 60:\n",
    "                return 'F'\n",
    "        except:\n",
    "            return 'Invalid Test Scores: {}'.format(self.scores)\n",
    "\n",
    "    def __repr__(self) :\n",
    "        return \"Student({}, {}, {})\".format(self.fname,self.lname, self.id)\n",
    "        \n",
    "    def __str__(self) :\n",
    "         return \"%s %s, Student ID %d, you got a %s.\" % (self.fname, self.lname, self.id, self.calculate())\n",
    "        \n",
    "\n",
    "sd = Person(input('First Name: '), input('Last Name: '))\n",
    "sd = Student(sd, input('Student ID: '), input('Enter a list of grades separated by a space: ').split())\n",
    "print(sd)\n"
   ]
  },
  {
   "cell_type": "code",
   "execution_count": 2,
   "metadata": {},
   "outputs": [
    {
     "name": "stdout",
     "output_type": "stream",
     "text": [
      "First name: Gary\n",
      "Last name: Jackson\n",
      "Student ID: 7\n",
      "Enter a list grades separated by space: 80 50 90 75 85\n",
      "Gary Jackson Student ID 7, you got a C.\n"
     ]
    }
   ],
   "source": []
  },
  {
   "cell_type": "code",
   "execution_count": 3,
   "metadata": {},
   "outputs": [
    {
     "data": {
      "text/html": [
       "<iframe width=\"560\" height=\"315\" src=\"https://www.youtube.com/embed/GCd4auHwZZY?rel=0&amp;controls=0&amp;showinfo=0\" frameborder=\"0\" allowfullscreen></iframe>"
      ],
      "text/plain": [
       "<IPython.core.display.HTML object>"
      ]
     },
     "execution_count": 3,
     "metadata": {},
     "output_type": "execute_result"
    }
   ],
   "source": [
    "from IPython.display import HTML\n",
    "\n",
    "# Youtube\n",
    "HTML('<iframe width=\"560\" height=\"315\" src=\"https://www.youtube.com/embed/GCd4auHwZZY?rel=0&amp;controls=0&amp;showinfo=0\" frameborder=\"0\" allowfullscreen></iframe>')\n"
   ]
  },
  {
   "cell_type": "markdown",
   "metadata": {},
   "source": [
    "[How To Submit Your Exercises](https://www.youtube.com/watch?v=GCd4auHwZZY)"
   ]
  },
  {
   "cell_type": "markdown",
   "metadata": {},
   "source": [
    "- - - \n",
    "<!--NAVIGATION-->\n",
    "Module 8. | [Inheritance & Methods](./01_oop_inheritance.ipynb) | [Sequences, Iterables, Generators Revisited](02_revisited.ipynb) | **[Exercises](./03_inheritance_methods_exercises.ipynb)**\n",
    "<br>\n",
    "[Top](#)"
   ]
  },
  {
   "cell_type": "markdown",
   "metadata": {},
   "source": [
    "- - -\n",
    "\n",
    "Copyright © 2020 Qualex Consulting Services Incorporated."
   ]
  },
  {
   "cell_type": "code",
   "execution_count": null,
   "metadata": {},
   "outputs": [],
   "source": []
  }
 ],
 "metadata": {
  "kernelspec": {
   "display_name": "Python 3",
   "language": "python",
   "name": "python3"
  },
  "language_info": {
   "codemirror_mode": {
    "name": "ipython",
    "version": 3
   },
   "file_extension": ".py",
   "mimetype": "text/x-python",
   "name": "python",
   "nbconvert_exporter": "python",
   "pygments_lexer": "ipython3",
   "version": "3.7.4"
  }
 },
 "nbformat": 4,
 "nbformat_minor": 4
}
