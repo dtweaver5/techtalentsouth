{
 "cells": [
  {
   "cell_type": "markdown",
   "metadata": {},
   "source": [
    "Data Science Fundamentals: Python |\n",
    "[Table of Contents](../index.ipynb)\n",
    "- - - \n",
    "<!--NAVIGATION-->\n",
    "Module 3. [Control Flow](./01_mod_control_flow.ipynb) | [Statements](./02_python_statements.ipynb) | [Functions](./03_python_functions.ipynb) | **[Exercises](./04_mod_exercises.ipynb)**"
   ]
  },
  {
   "cell_type": "markdown",
   "metadata": {},
   "source": [
    "# Module 3: Practice Exercises"
   ]
  },
  {
   "cell_type": "markdown",
   "metadata": {},
   "source": [
    "1. Guess a number between 1 to 9 given by the user. Hint. [Random](https://docs.python.org/3/library/random.html)"
   ]
  },
  {
   "cell_type": "code",
   "execution_count": 7,
   "metadata": {},
   "outputs": [
    {
     "name": "stdout",
     "output_type": "stream",
     "text": [
      "Type in a number between 1 and 9... 5\n",
      "I guessed 5\n",
      "I was wrong.\n"
     ]
    }
   ],
   "source": [
    "import random\n",
    "\n",
    "def guessNum(num):\n",
    "    rand = random.randint(1,9)\n",
    "    print(\"I guessed {}\".format(rand))\n",
    "    return num == rand\n",
    "\n",
    "inputNum = input(\"Type in a number between 1 and 9... \")\n",
    "\n",
    "if guessNum(inputNum):\n",
    "    print('I got it right!')\n",
    "else:\n",
    "    print('I was wrong.')\n"
   ]
  },
  {
   "cell_type": "markdown",
   "metadata": {},
   "source": [
    "2. Check the validity of password input by the user. Hint. [Re](https://docs.python.org/3/library/re.html) which does matching operations much like Perl.\n",
    "\n",
    "Validation:\n",
    "\n",
    "- At least 1 letter between [a-z] and 1 letter between [A-Z].\n",
    "- At least 1 number between [0-9].\n",
    "- At least 1 character from [$#@].\n",
    "- Minimum length 6 characters.\n",
    "- Maximum length 16 characters."
   ]
  },
  {
   "cell_type": "code",
   "execution_count": 6,
   "metadata": {},
   "outputs": [
    {
     "name": "stdout",
     "output_type": "stream",
     "text": [
      "Input your password : aA9#aA9\n",
      "Valid Password\n"
     ]
    }
   ],
   "source": []
  },
  {
   "cell_type": "code",
   "execution_count": 19,
   "metadata": {},
   "outputs": [
    {
     "name": "stdout",
     "output_type": "stream",
     "text": [
      "Input your password: Ac3$as\n"
     ]
    },
    {
     "data": {
      "text/plain": [
       "'Valid Password'"
      ]
     },
     "execution_count": 19,
     "metadata": {},
     "output_type": "execute_result"
    }
   ],
   "source": [
    "import re\n",
    "\n",
    "def validatePassword(pw):\n",
    "    if len(pw) >= 16 or len(pw) < 6:\n",
    "        return 'Not a Valid Password'\n",
    "\n",
    "    lowLetter = re.compile('[a-z]+')\n",
    "    hiLetter = re.compile('[A-Z]+')\n",
    "    number = re.compile(r'\\d+')\n",
    "    symbol = re.compile('[$,#,@]+')\n",
    "\n",
    "    low = lowLetter.search(pw)\n",
    "    hi = hiLetter.search(pw)\n",
    "    num = number.search(pw)\n",
    "    sym = symbol.search(pw)\n",
    "    \n",
    "    if low == None or hi == None or num == None or sym == None:\n",
    "        return 'Not a Valid Password'\n",
    "    else:\n",
    "        return 'Valid Password'\n",
    "\n",
    "pw = input(\"Input your password: \")\n",
    "\n",
    "validatePassword(pw)"
   ]
  },
  {
   "cell_type": "markdown",
   "metadata": {},
   "source": [
    "3. Get input of the age of 3 people by user and determine oldest and youngest among them"
   ]
  },
  {
   "cell_type": "code",
   "execution_count": 21,
   "metadata": {},
   "outputs": [
    {
     "name": "stdout",
     "output_type": "stream",
     "text": [
      "Enter First Person's Age : 14\n",
      "Enter Second Person's Age : 34\n",
      "Enter Third Person's Age : 78\n",
      "The Oldest Person is : 78\n",
      "The Youngest Person is : 14\n"
     ]
    }
   ],
   "source": [
    "first = input('Enter First Person\\'s Age : ')\n",
    "second = input('Enter Second Person\\'s Age : ')\n",
    "third = input('Enter Third Person\\'s Age : ')\n",
    "oldest = max(first, second, third)\n",
    "print('The Oldest Person is : {}'.format(oldest))\n",
    "youngest = min(first, second, third)\n",
    "print('The Youngest Person is : {}'.format(youngest))"
   ]
  },
  {
   "cell_type": "markdown",
   "metadata": {},
   "source": [
    "4. A student will not be allowed to sit in exam if his/her attendance is less than 75%.\n",
    "\n",
    "Take following input from user\n",
    "\n",
    "- Number of classes held\n",
    "- Number of classes attended.\n",
    "- And print percentage of class attended\n",
    "- Is student is allowed to sit in exam or not?"
   ]
  },
  {
   "cell_type": "code",
   "execution_count": 32,
   "metadata": {},
   "outputs": [
    {
     "name": "stdout",
     "output_type": "stream",
     "text": [
      "How many classes are held : 5\n",
      "How many classes have you attended : 3\n",
      "60.0%\n",
      "You can not take part in the exam\n"
     ]
    }
   ],
   "source": [
    "classesHeld = input('How many classes are held : ')\n",
    "classesAttend = input('How many classes have you attended : ')\n",
    "percentage = float(classesAttend) / float(classesHeld)\n",
    "print('{}%'.format(percentage*100))\n",
    "message = 'You can not take part in the exam' if percentage < 0.75 else 'You can take part in the exam'\n",
    "print(message)"
   ]
  },
  {
   "cell_type": "markdown",
   "metadata": {},
   "source": [
    "5. Get an integer N from the user and perform the following actions:\n",
    "\n",
    "Find out - \n",
    "- if N is odd, print \"weird\"\n",
    "- if N is even and in the inclusive range of 2 to 5, print \"Not Weird\"\n",
    "- if N is even and in the inclusive range of 6 to 20, print \"Weird\"\n",
    "- if N is even and greater than 20, print \"Not Weird\""
   ]
  },
  {
   "cell_type": "code",
   "execution_count": 16,
   "metadata": {},
   "outputs": [
    {
     "name": "stdout",
     "output_type": "stream",
     "text": [
      "Input a Number to see if You Are Weird or Not Weird : 22\n",
      "Not Weird\n"
     ]
    }
   ],
   "source": []
  },
  {
   "cell_type": "code",
   "execution_count": 8,
   "metadata": {},
   "outputs": [
    {
     "name": "stdout",
     "output_type": "stream",
     "text": [
      "Input a number to see whether or not you are weird: 8\n",
      "Weird\n"
     ]
    }
   ],
   "source": [
    "N = input(\"Input a number to see whether or not you are weird: \")\n",
    "N = int(N)\n",
    "if N%2==0 and (2<=N<=5 or N>20):\n",
    "    print(\"Not Weird\")\n",
    "else:\n",
    "    print(\"Weird\")"
   ]
  },
  {
   "cell_type": "markdown",
   "metadata": {},
   "source": [
    "\n",
    "## Extra Points\n",
    "- - -"
   ]
  },
  {
   "cell_type": "markdown",
   "metadata": {},
   "source": [
    "1. ***Optional Exercise (Extra Points)***. Write a Python program to reverse a string."
   ]
  },
  {
   "cell_type": "raw",
   "metadata": {},
   "source": [
    "Sample String : \"1234abcd\"\n",
    "Expected Output : \"dcba4321\""
   ]
  },
  {
   "cell_type": "code",
   "execution_count": 15,
   "metadata": {},
   "outputs": [
    {
     "name": "stdout",
     "output_type": "stream",
     "text": [
      "Input a string to reverse: 1234abcd\n"
     ]
    },
    {
     "data": {
      "text/plain": [
       "'dcba4321'"
      ]
     },
     "execution_count": 15,
     "metadata": {},
     "output_type": "execute_result"
    }
   ],
   "source": []
  },
  {
   "cell_type": "code",
   "execution_count": 25,
   "metadata": {},
   "outputs": [
    {
     "name": "stdout",
     "output_type": "stream",
     "text": [
      "Input a string to reverse: 1234\n",
      "4321\n"
     ]
    }
   ],
   "source": [
    "instring = input('Input a string to reverse: ')\n",
    "outstring = instring[::-1]\n",
    "print(outstring)"
   ]
  },
  {
   "cell_type": "markdown",
   "metadata": {},
   "source": [
    "2. ***Optional Exercise (Extra Points)***. Write a Python function to multiply all the numbers in a list. "
   ]
  },
  {
   "cell_type": "raw",
   "metadata": {},
   "source": [
    "Sample List : (8, 2, 3, -1, 7)\n",
    "Expected Output : -336"
   ]
  },
  {
   "cell_type": "code",
   "execution_count": 14,
   "metadata": {},
   "outputs": [
    {
     "name": "stdout",
     "output_type": "stream",
     "text": [
      "-336\n"
     ]
    }
   ],
   "source": []
  },
  {
   "cell_type": "code",
   "execution_count": 36,
   "metadata": {},
   "outputs": [
    {
     "name": "stdout",
     "output_type": "stream",
     "text": [
      "List of numbers :123 -098 0.0000123 4\n",
      "-0.5930568\n"
     ]
    }
   ],
   "source": [
    "samplelist = input('List of numbers :').split()\n",
    "output = 1\n",
    "num = 1\n",
    "for i in range(len(samplelist)):   \n",
    "    num = float(samplelist[i])\n",
    "    output = output * num\n",
    "        \n",
    "print(output)"
   ]
  },
  {
   "cell_type": "markdown",
   "metadata": {},
   "source": [
    "3. ***Optional Exercise (Extra Points)***. Write a Python function that accepts a string and calculate the number of upper case letters and lower case letters."
   ]
  },
  {
   "cell_type": "raw",
   "metadata": {},
   "source": [
    "Sample String : 'The quick Brow Fox'\n",
    "Expected Output :\n",
    "No. of Upper case characters : 3\n",
    "No. of Lower case Characters : 12"
   ]
  },
  {
   "cell_type": "code",
   "execution_count": 4,
   "metadata": {},
   "outputs": [
    {
     "name": "stdout",
     "output_type": "stream",
     "text": [
      "Input a sentence to calculate the number of upper and lower case letters: The quick Brown Fox\n",
      "Original String :  The quick Brown Fox\n",
      "No. of Upper case characters :  3\n",
      "No. of Lower case Characters :  13\n"
     ]
    }
   ],
   "source": []
  },
  {
   "cell_type": "code",
   "execution_count": 39,
   "metadata": {},
   "outputs": [
    {
     "name": "stdout",
     "output_type": "stream",
     "text": [
      "Enter a string: Hi I like Numbers 123 IILOKJDNEU njifdw 890:?...)\n",
      "Number of upper case letters: 13\n",
      "Number of lower case letters: 17\n"
     ]
    }
   ],
   "source": [
    "instring = input('Enter a string: ').split()\n",
    "lower = 0\n",
    "upper = 0\n",
    "for string in instring:\n",
    "    for char in string:\n",
    "        if char.islower():\n",
    "            lower += 1\n",
    "        if char.isupper():\n",
    "            upper +=1\n",
    "print('Number of upper case letters: {}'.format(upper))\n",
    "print('Number of lower case letters: {}'.format(lower))"
   ]
  },
  {
   "cell_type": "markdown",
   "metadata": {},
   "source": [
    "- - -\n",
    "\n",
    "Copyright © 2020 Qualex Consulting Services Incorporated."
   ]
  }
 ],
 "metadata": {
  "kernelspec": {
   "display_name": "Python 3",
   "language": "python",
   "name": "python3"
  },
  "language_info": {
   "codemirror_mode": {
    "name": "ipython",
    "version": 3
   },
   "file_extension": ".py",
   "mimetype": "text/x-python",
   "name": "python",
   "nbconvert_exporter": "python",
   "pygments_lexer": "ipython3",
   "version": "3.7.4"
  }
 },
 "nbformat": 4,
 "nbformat_minor": 4
}
